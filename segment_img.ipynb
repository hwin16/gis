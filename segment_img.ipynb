{
 "cells": [
  {
   "cell_type": "code",
   "execution_count": 1,
   "metadata": {},
   "outputs": [],
   "source": [
    "import os\n",
    "import rasterio as rio\n",
    "from rasterio.plot import show\n",
    "from pathlib import Path"
   ]
  },
  {
   "cell_type": "code",
   "execution_count": 2,
   "metadata": {},
   "outputs": [],
   "source": [
    "dim = 224"
   ]
  },
  {
   "cell_type": "code",
   "execution_count": 3,
   "metadata": {},
   "outputs": [],
   "source": [
    "os.makedirs('./data/hed/x', exist_ok=True)\n",
    "os.makedirs('./data/hed/y', exist_ok=True)"
   ]
  },
  {
   "cell_type": "code",
   "execution_count": 4,
   "metadata": {},
   "outputs": [
    {
     "data": {
      "text/plain": [
       "<Figure size 640x480 with 1 Axes>"
      ]
     },
     "metadata": {},
     "output_type": "display_data"
    },
    {
     "data": {
      "text/plain": [
       "<matplotlib.axes._subplots.AxesSubplot at 0x7f9e0b1c1b90>"
      ]
     },
     "execution_count": 4,
     "metadata": {},
     "output_type": "execute_result"
    }
   ],
   "source": [
    "img = rio.open('./data/six_bands/2017.10.15.tif')\n",
    "d = img.read()\n",
    "show(d[2, 0:224, 0:224], cmap='tab20')"
   ]
  },
  {
   "cell_type": "code",
   "execution_count": 5,
   "metadata": {},
   "outputs": [],
   "source": [
    "def generate(in_dir, filename, out_dir, dim):\n",
    "    y_img = rio.open(Path('./data/truth.tif'))  \n",
    "    y_data = y_img.read()\n",
    "    \n",
    "    y_profile = y_img.profile\n",
    "    y_profile['width'] = dim\n",
    "    y_profile['height'] = dim\n",
    " \n",
    "    x_img = rio.open(Path(in_dir) / filename)\n",
    "    x_data = x_img.read()\n",
    "    \n",
    "    x_profile = x_img.profile\n",
    "    x_profile['width'] = dim\n",
    "    x_profile['height'] = dim\n",
    "    \n",
    "    count = 0\n",
    "    \n",
    "    for i in range(0, x_data.shape[1]-dim, dim):\n",
    "        for j in range(0, x_data.shape[2]-dim, dim):\n",
    "            name = filename[0:filename.rfind('.')] + '_' + str(count) + '.tif'\n",
    "            x_filename = Path(out_dir) / 'x' / name\n",
    "            y_filename = Path(out_dir) / 'y' / name\n",
    "            \n",
    "            with rio.open(x_filename, 'w', **x_profile) as x_file:\n",
    "                x_file.write(x_data[:, i:i+dim, j:j+dim])\n",
    "                \n",
    "            with rio.open(y_filename, 'w', **y_profile) as y_file:\n",
    "                y_file.write(y_data[:, i:i+dim, j:j+dim])\n",
    "            \n",
    "            count += 1"
   ]
  },
  {
   "cell_type": "code",
   "execution_count": 6,
   "metadata": {},
   "outputs": [],
   "source": [
    "# generate x\n",
    "for f in os.listdir('./data/six_bands'):\n",
    "    generate('./data/six_bands', f, './data/hed/', dim)"
   ]
  }
 ],
 "metadata": {
  "kernelspec": {
   "display_name": "Python 3",
   "language": "python",
   "name": "python3"
  },
  "language_info": {
   "codemirror_mode": {
    "name": "ipython",
    "version": 3
   },
   "file_extension": ".py",
   "mimetype": "text/x-python",
   "name": "python",
   "nbconvert_exporter": "python",
   "pygments_lexer": "ipython3",
   "version": "3.7.5"
  }
 },
 "nbformat": 4,
 "nbformat_minor": 2
}
