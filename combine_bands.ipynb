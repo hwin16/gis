{
 "cells": [
  {
   "cell_type": "code",
   "execution_count": 1,
   "metadata": {},
   "outputs": [],
   "source": [
    "import os\n",
    "import datetime\n",
    "import rasterio as rio\n",
    "import numpy as np"
   ]
  },
  {
   "cell_type": "code",
   "execution_count": 2,
   "metadata": {},
   "outputs": [],
   "source": [
    "# create six bands directory if not exists\n",
    "six_bands = \"./data/six_bands\"\n",
    "if not os.path.exists(six_bands):\n",
    "    os.mkdir(six_bands)"
   ]
  },
  {
   "cell_type": "code",
   "execution_count": 3,
   "metadata": {},
   "outputs": [],
   "source": [
    "sample_filename = \"./data/2017/2017.10.15.red.tif\"\n",
    "sample_file = rio.open(sample_filename)\n",
    "profile = sample_file.profile\n",
    "profile['count'] = 6\n",
    "sample_file.close()"
   ]
  },
  {
   "cell_type": "code",
   "execution_count": 4,
   "metadata": {},
   "outputs": [],
   "source": [
    "colors = [ 'red', 'green', 'blue', 'nir', 'swir1', 'swir2' ]\n",
    "current = datetime.datetime(2017, 3, 15)\n",
    "while current != datetime.datetime(2017, 10, 16):\n",
    "    date = current.strftime(\"%Y.%m.%d\")\n",
    "    with rio.open(\"./data/six_bands/\" + date + \".tif\", \"w\", **profile) as dst:\n",
    "        for i, clr in enumerate(colors, start=1):\n",
    "            input_file = \"./data/2017/\" + date + \".\" + clr + \".tif\"\n",
    "            dst.write_band(i, rio.open(input_file).read(1))\n",
    "    current += datetime.timedelta(days=1)"
   ]
  }
 ],
 "metadata": {
  "kernelspec": {
   "display_name": "Python 3",
   "language": "python",
   "name": "python3"
  },
  "language_info": {
   "codemirror_mode": {
    "name": "ipython",
    "version": 3
   },
   "file_extension": ".py",
   "mimetype": "text/x-python",
   "name": "python",
   "nbconvert_exporter": "python",
   "pygments_lexer": "ipython3",
   "version": "3.7.5"
  }
 },
 "nbformat": 4,
 "nbformat_minor": 2
}
