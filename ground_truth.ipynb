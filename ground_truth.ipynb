{
 "cells": [
  {
   "cell_type": "code",
   "execution_count": null,
   "metadata": {},
   "outputs": [],
   "source": [
    "import numpy as np\n",
    "import rasterio as rio\n",
    "from rasterio.mask import mask\n",
    "from rasterio.plot import show\n",
    "import geopandas as gpd\n",
    "import matplotlib.pyplot as plt"
   ]
  },
  {
   "cell_type": "code",
   "execution_count": null,
   "metadata": {},
   "outputs": [],
   "source": [
    "shp = gpd.read_file(\"./data/dissolved/0812_dis.shp\")\n",
    "rst = rio.open('./data/2017/2017.08.15.nir.tif')\n",
    "geo = shp.loc[90].geometry\n",
    "geo"
   ]
  },
  {
   "cell_type": "code",
   "execution_count": null,
   "metadata": {},
   "outputs": [],
   "source": [
    "def transform_pix(img, nodata=255, border_pix=2000):\n",
    "    m = np.copy(img)\n",
    "    row = m.shape[1]\n",
    "    col = m.shape[2]\n",
    "    for y in range(0, col):\n",
    "        for x in range(0, row):\n",
    "            if m[0, x, y] != nodata:\n",
    "                # border\n",
    "                if x == 0 or y == 0 or x == row-1 or y == col-1: \n",
    "                    m[0, x, y] = border_pix\n",
    "                # top\n",
    "                if x > 0 and m[0, x-1, y] == nodata: \n",
    "                    m[0, x, y] = border_pix\n",
    "                # bottom\n",
    "                if x < row-1 and m[0, x+1, y] == nodata:\n",
    "                    m[0, x, y] = border_pix\n",
    "                # left\n",
    "                if y > 0 and m[0, x, y-1] == nodata:\n",
    "                    m[0, x, y] = border_pix\n",
    "                # right\n",
    "                if y < col-1 and m[0, x, y+1] == nodata:\n",
    "                    m[0, x, y] = border_pix\n",
    "    return m"
   ]
  },
  {
   "cell_type": "code",
   "execution_count": null,
   "metadata": {},
   "outputs": [],
   "source": [
    "# Mask `raster` image using polygon from shapefile\n",
    "img, transform = mask(rst, [geo], crop=True, nodata=255)\n",
    "img"
   ]
  },
  {
   "cell_type": "code",
   "execution_count": null,
   "metadata": {},
   "outputs": [],
   "source": [
    "cimg = transform_pix(img)\n",
    "print(cimg)\n",
    "show(cimg)"
   ]
  },
  {
   "cell_type": "code",
   "execution_count": null,
   "metadata": {},
   "outputs": [],
   "source": [
    "cp = np.ones(rst.read(1).shape, dtype=np.int16)\n",
    "for x in shp.itertuples():\n",
    "    crp_img, crp_trans = mask(rst, [x.geometry], crop=True, nodata=255)\n",
    "    t_img = transform_pix(crp_img)\n",
    "    t_img = t_img.reshape((t_img.shape[1], t_img.shape[2]))\n",
    "    it = np.nditer(t_img, flags=[\"multi_index\"])\n",
    "    while not it.finished:\n",
    "        j, i = it.multi_index\n",
    "        y, x = ~rst.transform * crp_trans * (i, j)\n",
    "        if it[0] == 2000:\n",
    "            cp[int(x), int(y)] = 0 #it[0]\n",
    "        it.iternext()"
   ]
  },
  {
   "cell_type": "code",
   "execution_count": null,
   "metadata": {},
   "outputs": [],
   "source": [
    "profile = rst.profile\n",
    "with rio.open('./data/truth.tif', 'w', **profile) as dst:\n",
    "    dst.write(cp, 1)"
   ]
  }
 ],
 "metadata": {
  "kernelspec": {
   "display_name": "Python 3",
   "language": "python",
   "name": "python3"
  },
  "language_info": {
   "codemirror_mode": {
    "name": "ipython",
    "version": 3
   },
   "file_extension": ".py",
   "mimetype": "text/x-python",
   "name": "python",
   "nbconvert_exporter": "python",
   "pygments_lexer": "ipython3",
   "version": "3.7.5"
  }
 },
 "nbformat": 4,
 "nbformat_minor": 4
}
