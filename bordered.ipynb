{
 "cells": [
  {
   "cell_type": "code",
   "execution_count": 15,
   "metadata": {},
   "outputs": [],
   "source": [
    "import numpy as np\n",
    "import matplotlib.pyplot as plt\n",
    "import geopandas as gpd\n",
    "import pandas as pd\n",
    "from geopandas import GeoSeries, GeoDataFrame\n",
    "import rasterio\n",
    "from rasterio.mask import mask\n",
    "import shapely\n",
    "from rasterio.plot import show\n",
    "from rasterio.merge import merge\n",
    "import cv2 as cv"
   ]
  },
  {
   "cell_type": "code",
   "execution_count": 2,
   "metadata": {},
   "outputs": [],
   "source": [
    "shp = gpd.read_file(\"./data/dissolved/0812_dis.shp\")\n",
    "rst = rasterio.open(\"./data/2017/nir/2017.07.01.tif\")\n",
    "copy = rasterio.open(\"./data/2017/nir/2017.07.01.tif\")\n",
    "band1 = rst.read(1)"
   ]
  },
  {
   "cell_type": "code",
   "execution_count": 3,
   "metadata": {},
   "outputs": [],
   "source": [
    "band1 = rst.read(1)\n",
    "x = 500\n",
    "y = 500\n",
    "inc = 50\n",
    "img24 = band1[x:(x+inc), y:(y+inc)]"
   ]
  },
  {
   "cell_type": "code",
   "execution_count": 4,
   "metadata": {},
   "outputs": [
    {
     "name": "stdout",
     "output_type": "stream",
     "text": [
      "(389700.0, 4459080.0)\n",
      "(391200.0, 4457580.0)\n",
      "(404715.0, 4444065.0)\n"
     ]
    }
   ],
   "source": [
    "# 0, 0\n",
    "t1 = rst.transform * (x, y)\n",
    "t2 = rst.transform * (x, y+inc)\n",
    "t3 = rst.transform * (x+inc, y)\n",
    "t4 = rst.transform * (x+inc, y+inc)\n",
    "vertices = [t1, t3, t4, t2]\n",
    "print(t1)\n",
    "print(t4)\n",
    "print(rst.xy(1000,1000))"
   ]
  },
  {
   "cell_type": "code",
   "execution_count": 7,
   "metadata": {},
   "outputs": [
    {
     "data": {
      "image/png": "[encoded data removed]",
      "text/plain": [
       "<Figure size 432x288 with 1 Axes>"
      ]
     },
     "metadata": {
      "needs_background": "light"
     },
     "output_type": "display_data"
    }
   ],
   "source": [
    "sqr = shapely.geometry.Polygon(vertices)\n",
    "gs = gpd.GeoSeries([sqr])\n",
    "gs.crs = {'init': 'epsg:32616'}\n",
    "df = gpd.GeoDataFrame({'geometry': gs})\n",
    "df.crs = shp.crs\n",
    "intersection = gpd.overlay(df, shp, how='intersection')\n",
    "ax = intersection.plot(cmap='tab20b')"
   ]
  },
  {
   "cell_type": "code",
   "execution_count": 8,
   "metadata": {},
   "outputs": [],
   "source": [
    "def transform_pix(img, nodata=255, border_pix=2000):\n",
    "    m = np.copy(img)\n",
    "    row = m.shape[1]\n",
    "    col = m.shape[2]\n",
    "    for y in range(0, col):\n",
    "        for x in range(0, row):\n",
    "            if m[0, x, y] != nodata:\n",
    "                # border\n",
    "                if x == 0 or y == 0 or x == row-1 or y == col-1: \n",
    "                    m[0, x, y] = border_pix\n",
    "                # top\n",
    "                if x > 0 and m[0, x-1, y] == nodata: \n",
    "                    m[0, x, y] = border_pix\n",
    "                # bottom\n",
    "                if x < row-1 and m[0, x+1, y] == nodata:\n",
    "                    m[0, x, y] = border_pix\n",
    "                # left\n",
    "                if y > 0 and m[0, x, y-1] == nodata:\n",
    "                    m[0, x, y] = border_pix\n",
    "                # right\n",
    "                if y < col-1 and m[0, x, y+1] == nodata:\n",
    "                    m[0, x, y] = border_pix\n",
    "    return m"
   ]
  },
  {
   "cell_type": "code",
   "execution_count": 9,
   "metadata": {},
   "outputs": [],
   "source": [
    "cp = np.zeros(rst.read(1).shape, dtype=np.int16)\n",
    "for x in shp.itertuples():\n",
    "    crp_img, crp_trans = mask(rst, [x.geometry], crop=True, nodata=255)\n",
    "    t_img = transform_pix(crp_img)\n",
    "    t_img = t_img.reshape((t_img.shape[1], t_img.shape[2]))\n",
    "    it = np.nditer(t_img, flags=[\"multi_index\"])\n",
    "    while not it.finished:\n",
    "        j, i = it.multi_index\n",
    "        y, x = ~rst.transform * crp_trans * (i, j)\n",
    "        if it[0] == 2000:\n",
    "            cp[int(x), int(y)] = 1 #it[0]\n",
    "        it.iternext()"
   ]
  },
  {
   "cell_type": "code",
   "execution_count": 10,
   "metadata": {},
   "outputs": [],
   "source": [
    "profile = rst.profile\n",
    "with rasterio.open(\"./data/generated/bordered.tif\", \"w\", **profile) as dst:\n",
    "    dst.write(cp, 1)"
   ]
  },
  {
   "cell_type": "code",
   "execution_count": 13,
   "metadata": {},
   "outputs": [],
   "source": [
    "#hk = rasterio.open(\"./data/generated/bordered.tif\")\n",
    "#show(hk.read(1)[1000:1050, 500:550])\n",
    "#show(img24)\n",
    "#intersection.plot(cmap='tab20b')"
   ]
  },
  {
   "cell_type": "code",
   "execution_count": 14,
   "metadata": {},
   "outputs": [],
   "source": [
    "#intersection.iloc[7].geometry\n",
    "#show(cp[1200:1250, 1200:1250])\n",
    "#show(img24)\n",
    "#intersection.plot(cmap='tab20b')"
   ]
  },
  {
   "cell_type": "code",
   "execution_count": 52,
   "metadata": {},
   "outputs": [],
   "source": [
    "cv_img = cv.imread('./data/generated/bordered.tif', 2)\n",
    "crp = cv_img[1000:1050, 1000:1050]\n",
    "kernel = np.ones((5, 5))\n",
    "erode = cv.erode(crp, kernel, iterations=1)"
   ]
  },
  {
   "cell_type": "code",
   "execution_count": 51,
   "metadata": {},
   "outputs": [
    {
     "data": {
      "image/png": "[encoded data removed]",
      "text/plain": [
       "<Figure size 432x288 with 1 Axes>"
      ]
     },
     "metadata": {
      "needs_background": "light"
     },
     "output_type": "display_data"
    },
    {
     "data": {
      "image/png": "[encoded data removed]",
      "text/plain": [
       "<Figure size 432x288 with 1 Axes>"
      ]
     },
     "metadata": {
      "needs_background": "light"
     },
     "output_type": "display_data"
    },
    {
     "data": {
      "text/plain": [
       "<matplotlib.axes._subplots.AxesSubplot at 0x7f79178c41d0>"
      ]
     },
     "execution_count": 51,
     "metadata": {},
     "output_type": "execute_result"
    }
   ],
   "source": [
    "show(crp)\n",
    "show(erode)"
   ]
  },
  {
   "cell_type": "code",
   "execution_count": 28,
   "metadata": {},
   "outputs": [],
   "source": [
    "with rasterio.open(\"./data/generated/eroded.tif\", \"w\", **profile) as dst:\n",
    "    dst.write(img, 1)\n",
    "#cv.imshow('Erosion', erosion)"
   ]
  },
  {
   "cell_type": "code",
   "execution_count": null,
   "metadata": {},
   "outputs": [],
   "source": []
  }
 ],
 "metadata": {
  "kernelspec": {
   "display_name": "Python 3",
   "language": "python",
   "name": "python3"
  },
  "language_info": {
   "codemirror_mode": {
    "name": "ipython",
    "version": 3
   },
   "file_extension": ".py",
   "mimetype": "text/x-python",
   "name": "python",
   "nbconvert_exporter": "python",
   "pygments_lexer": "ipython3",
   "version": "3.6.8"
  }
 },
 "nbformat": 4,
 "nbformat_minor": 2
}
