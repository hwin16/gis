{
 "cells": [
  {
   "cell_type": "code",
   "execution_count": 70,
   "metadata": {},
   "outputs": [],
   "source": [
    "import torch\n",
    "import torch.nn as nn\n",
    "import torch.nn.functional as F\n",
    "import torch.optim as optim\n",
    "import rasterio as rio\n",
    "import datetime\n",
    "import os\n",
    "import numpy as np"
   ]
  },
  {
   "cell_type": "code",
   "execution_count": 174,
   "metadata": {},
   "outputs": [],
   "source": [
    "class VGG16(nn.Module):\n",
    "    def __init__(self):\n",
    "        super(VGG16, self).__init__()\n",
    "        \n",
    "        self.conv1_1 = nn.Conv2d(6, 64, 3, padding=1)\n",
    "        self.conv1_2 = nn.Conv2d(64, 64, 3, padding=1)\n",
    "\n",
    "        self.conv2_1 = nn.Conv2d(64, 128, 3, padding=1)\n",
    "        self.conv2_2 = nn.Conv2d(128, 128, 3, padding=1)\n",
    "        \n",
    "        self.conv3_1 = nn.Conv2d(128, 256, 3, padding=1)\n",
    "        self.conv3_2 = nn.Conv2d(256, 256, 3, padding=1)\n",
    "        self.conv3_3 = nn.Conv2d(256, 256, 1, padding=1)\n",
    "        \n",
    "        self.conv4_1 = nn.Conv2d(256, 512, 3, padding=1)\n",
    "        self.conv4_2 = nn.Conv2d(512, 512, 3, padding=1)\n",
    "        self.conv4_3 = nn.Conv2d(512, 512, 1, padding=0)\n",
    "        \n",
    "        self.conv5_1 = nn.Conv2d(512, 512, 3, padding=1)\n",
    "        self.conv5_2 = nn.Conv2d(512, 512, 3, padding=1)\n",
    "        self.conv5_3 = nn.Conv2d(512, 512, 1, padding=0)\n",
    "        \n",
    "        self.up_5 = nn.ConvTranspose2d(512, 256, 4, stride=2, padding=1)\n",
    "        self.up_4 = nn.ConvTranspose2d(256, 128, 4, stride=2, padding=1)\n",
    "        self.up_3 = nn.ConvTranspose2d(128, 64, 4, stride=2, padding=1)\n",
    "        self.up_2 = nn.ConvTranspose2d(64, 32, 4, stride=2, padding=1)\n",
    "        self.up_1 = nn.ConvTranspose2d(32, 1, 4, stride=2, padding=1)\n",
    "        \n",
    "    def forward(self, x):   \n",
    "        # 224x224\n",
    "        x = x.cuda()\n",
    "        x = F.relu(self.conv1_1(x))\n",
    "        x = F.relu(self.conv1_2(x))\n",
    "        x = F.max_pool2d(x, 2, 2)\n",
    "        # 112x112\n",
    "        \n",
    "        x = F.relu(self.conv2_1(x))\n",
    "        x = F.relu(self.conv2_2(x))\n",
    "        x = F.max_pool2d(x, 2, 2)\n",
    "        # 56x56\n",
    "        \n",
    "        x = F.relu(self.conv3_1(x))\n",
    "        x = F.relu(self.conv3_2(x))\n",
    "        x = F.relu(self.conv3_3(x))\n",
    "        x = F.max_pool2d(x, 2, 2)\n",
    "        # 28x28\n",
    "        \n",
    "        x = F.relu(self.conv4_1(x))\n",
    "        x = F.relu(self.conv4_2(x))\n",
    "        x = F.relu(self.conv4_3(x))\n",
    "        x = F.max_pool2d(x, 2, 2)\n",
    "        # 14x14\n",
    "        \n",
    "        x = F.relu(self.conv5_1(x))\n",
    "        x = F.relu(self.conv5_2(x))\n",
    "        x = F.relu(self.conv5_3(x))\n",
    "        x = F.max_pool2d(x, 2, 2)\n",
    "        # 7x7\n",
    "        \n",
    "        x = F.relu(self.up_5(x))\n",
    "        x = F.relu(self.up_4(x))\n",
    "        x = F.relu(self.up_3(x))\n",
    "        x = F.relu(self.up_2(x))\n",
    "        x = F.relu(self.up_1(x))\n",
    "        return x"
   ]
  },
  {
   "cell_type": "code",
   "execution_count": 219,
   "metadata": {},
   "outputs": [
    {
     "data": {
      "text/plain": [
       "<torch._C.Generator at 0x7fa5590389d0>"
      ]
     },
     "execution_count": 219,
     "metadata": {},
     "output_type": "execute_result"
    }
   ],
   "source": [
    "n_epochs = 10\n",
    "learning_rate = 0.00001\n",
    "momentum = 0.5\n",
    "print_interval = 1000\n",
    "\n",
    "random_seed = 1\n",
    "torch.manual_seed(random_seed)"
   ]
  },
  {
   "cell_type": "code",
   "execution_count": 220,
   "metadata": {},
   "outputs": [],
   "source": [
    "net = VGG16().cuda()\n",
    "optimizer = optim.SGD(net.parameters(), lr=learning_rate, momentum=momentum)"
   ]
  },
  {
   "cell_type": "code",
   "execution_count": 177,
   "metadata": {},
   "outputs": [],
   "source": [
    "def test():\n",
    "    net.eval()\n",
    "    test_loss = 0\n",
    "    correct = 0\n",
    "    with torch.no_grad():\n",
    "        for data, target in test_loader:\n",
    "            output = network(data)\n",
    "            test_loss += F.nll_loss(output, target, size_average=False).item()\n",
    "            pred = output.data.max(1, keepdim=True)[1]\n",
    "            correct += pred.eq(target.data.view_as(pred)).sum()\n",
    "    test_loss /= len(test_loader.dataset)\n",
    "    test_losses.append(test_loss)\n",
    "    print(f'Test set: Avg. loss: {test_loss}')"
   ]
  },
  {
   "cell_type": "code",
   "execution_count": 178,
   "metadata": {},
   "outputs": [],
   "source": [
    "#test()\n",
    "#for epoch in (0, n_epochs):\n",
    "#    train(epoch)\n",
    "#    test()"
   ]
  },
  {
   "cell_type": "code",
   "execution_count": 179,
   "metadata": {},
   "outputs": [
    {
     "name": "stdout",
     "output_type": "stream",
     "text": [
      "(6, 1986, 1551)\n",
      "torch.Size([6, 224, 224])\n"
     ]
    }
   ],
   "source": [
    "file = rio.open('./full_band.tif')\n",
    "data = file.read(); print(data.shape)\n",
    "X = torch.tensor(data[:, 0:224, 0:224], dtype=torch.float); print(X.shape)"
   ]
  },
  {
   "cell_type": "code",
   "execution_count": 180,
   "metadata": {},
   "outputs": [],
   "source": [
    "X = X.view(1, 6, 224, 224).cuda()"
   ]
  },
  {
   "cell_type": "code",
   "execution_count": 181,
   "metadata": {},
   "outputs": [],
   "source": [
    "net.eval()\n",
    "test_loss = 0\n",
    "correct = 0\n",
    "with torch.no_grad():\n",
    "    output = net(X)"
   ]
  },
  {
   "cell_type": "code",
   "execution_count": 182,
   "metadata": {},
   "outputs": [
    {
     "data": {
      "text/plain": [
       "torch.Size([1, 1, 224, 224])"
      ]
     },
     "execution_count": 182,
     "metadata": {},
     "output_type": "execute_result"
    }
   ],
   "source": [
    "output.shape"
   ]
  },
  {
   "cell_type": "code",
   "execution_count": 183,
   "metadata": {},
   "outputs": [
    {
     "data": {
      "text/plain": [
       "VGG16(\n",
       "  (conv1_1): Conv2d(6, 64, kernel_size=(3, 3), stride=(1, 1), padding=(1, 1))\n",
       "  (conv1_2): Conv2d(64, 64, kernel_size=(3, 3), stride=(1, 1), padding=(1, 1))\n",
       "  (conv2_1): Conv2d(64, 128, kernel_size=(3, 3), stride=(1, 1), padding=(1, 1))\n",
       "  (conv2_2): Conv2d(128, 128, kernel_size=(3, 3), stride=(1, 1), padding=(1, 1))\n",
       "  (conv3_1): Conv2d(128, 256, kernel_size=(3, 3), stride=(1, 1), padding=(1, 1))\n",
       "  (conv3_2): Conv2d(256, 256, kernel_size=(3, 3), stride=(1, 1), padding=(1, 1))\n",
       "  (conv3_3): Conv2d(256, 256, kernel_size=(1, 1), stride=(1, 1), padding=(1, 1))\n",
       "  (conv4_1): Conv2d(256, 512, kernel_size=(3, 3), stride=(1, 1), padding=(1, 1))\n",
       "  (conv4_2): Conv2d(512, 512, kernel_size=(3, 3), stride=(1, 1), padding=(1, 1))\n",
       "  (conv4_3): Conv2d(512, 512, kernel_size=(1, 1), stride=(1, 1))\n",
       "  (conv5_1): Conv2d(512, 512, kernel_size=(3, 3), stride=(1, 1), padding=(1, 1))\n",
       "  (conv5_2): Conv2d(512, 512, kernel_size=(3, 3), stride=(1, 1), padding=(1, 1))\n",
       "  (conv5_3): Conv2d(512, 512, kernel_size=(1, 1), stride=(1, 1))\n",
       "  (up_5): ConvTranspose2d(512, 256, kernel_size=(4, 4), stride=(2, 2), padding=(1, 1))\n",
       "  (up_4): ConvTranspose2d(256, 128, kernel_size=(4, 4), stride=(2, 2), padding=(1, 1))\n",
       "  (up_3): ConvTranspose2d(128, 64, kernel_size=(4, 4), stride=(2, 2), padding=(1, 1))\n",
       "  (up_2): ConvTranspose2d(64, 32, kernel_size=(4, 4), stride=(2, 2), padding=(1, 1))\n",
       "  (up_1): ConvTranspose2d(32, 1, kernel_size=(4, 4), stride=(2, 2), padding=(1, 1))\n",
       ")"
      ]
     },
     "execution_count": 183,
     "metadata": {},
     "output_type": "execute_result"
    }
   ],
   "source": [
    "net.train()"
   ]
  },
  {
   "cell_type": "code",
   "execution_count": 184,
   "metadata": {},
   "outputs": [],
   "source": [
    "from torch.utils.data import Dataset, DataLoader\n",
    "import rasterio as rio\n",
    "from rasterio.plot import reshape_as_image\n",
    "\n",
    "class ChampaignRaster(Dataset):\n",
    "    def __init__(self, split='train'):\n",
    "        super().__init__()\n",
    "        \n",
    "        \n",
    "        self.X = os.listdir('./data/vgg16/X')\n",
    "        self.y = os.listdir('./data/vgg16/y')\n",
    "        size = int(len(self.X) * 0.7)\n",
    "        \n",
    "        if split == 'train':\n",
    "            self.X = self.X[0:size]\n",
    "            self.y = self.y[0:size]\n",
    "        else:\n",
    "            self.X = self.X[size:len(self.X)]\n",
    "            self.y = self.y[size:len(self.y)]\n",
    "        \n",
    "    def __len__(self):\n",
    "        return len(self.X)\n",
    "    \n",
    "    def __getitem__(self, i):\n",
    "        x = self.X[i]\n",
    "        rst_x = rio.open('./data/vgg16/X/' + x)\n",
    "        band_x = rst_x.read()\n",
    "        tensor_x = torch.from_numpy(band_x)\n",
    "        tensor_x = tensor_x.type(torch.cuda.FloatTensor)\n",
    "        #tensor_x = Variable(tensor_x, requires_grad=True).cuda()\n",
    "        \n",
    "        y = self.y[i]\n",
    "        rst_y = rio.open('./data/vgg16/y/' + y)\n",
    "        band_y = rst_y.read()\n",
    "        tensor_y = torch.from_numpy(band_y)\n",
    "        tensor_y = tensor_y.type(torch.cuda.FloatTensor)\n",
    "        #tensor_y = Variable(tensor_y, requires_grad=True).cuda()\n",
    "        return tensor_x, tensor_y\n",
    "        "
   ]
  },
  {
   "cell_type": "code",
   "execution_count": 227,
   "metadata": {},
   "outputs": [],
   "source": [
    "s = ChampaignRaster()\n",
    "\n",
    "train_dataset = ChampaignRaster(split='train')\n",
    "val_dataset = ChampaignRaster(split='val')\n",
    "\n",
    "train_loader = DataLoader(train_dataset, shuffle=True, batch_size=10)\n",
    "val_loader = DataLoader(val_dataset, batch_size=10)\n",
    "#train_dataset.__getitem__(0)"
   ]
  },
  {
   "cell_type": "code",
   "execution_count": 228,
   "metadata": {},
   "outputs": [
    {
     "data": {
      "text/plain": [
       "(torch.Size([6, 224, 224]), torch.Size([1, 224, 224]))"
      ]
     },
     "execution_count": 228,
     "metadata": {},
     "output_type": "execute_result"
    }
   ],
   "source": [
    "train_dataset[1][0].shape, train_dataset[1][1].shape"
   ]
  },
  {
   "cell_type": "code",
   "execution_count": 238,
   "metadata": {},
   "outputs": [],
   "source": [
    "objective = nn.BCELoss().cuda()\n",
    "def train():\n",
    "    net.train()\n",
    "    for idx, (data, target) in enumerate(train_loader):\n",
    "        \n",
    "#         print(data[0, 0, 1:3, 1:3])\n",
    "        #print(data.shape)\n",
    "        optimizer.zero_grad()\n",
    "        output = torch.sigmoid(net(data))\n",
    "#         print(output)\n",
    "        loss = objective(output.reshape(10, -1), target.reshape(10, -1))\n",
    "#         print(loss.item())\n",
    "        loss.backward()\n",
    "#         for param in net.parameters():\n",
    "#             print(param.grad)\n",
    "        optimizer.step()\n",
    "        if idx % 100 == 0:\n",
    "            print(f'Loss: {loss.item()}')\n",
    "        break"
   ]
  },
  {
   "cell_type": "code",
   "execution_count": 239,
   "metadata": {},
   "outputs": [
    {
     "name": "stdout",
     "output_type": "stream",
     "text": [
      "tensor([[[[0.5000, 0.5000, 0.5000,  ..., 0.5000, 0.5000, 0.5000],\n",
      "          [0.5000, 0.5000, 0.5000,  ..., 0.5000, 0.5000, 0.5000],\n",
      "          [0.5000, 0.5000, 0.5000,  ..., 0.5000, 0.5000, 0.5000],\n",
      "          ...,\n",
      "          [0.5000, 0.5000, 0.5000,  ..., 0.5000, 0.5000, 0.5000],\n",
      "          [0.5000, 0.5000, 0.5000,  ..., 0.5000, 0.5000, 0.5000],\n",
      "          [0.5000, 0.5000, 0.5000,  ..., 0.5000, 0.5000, 0.5000]]],\n",
      "\n",
      "\n",
      "        [[[0.5000, 0.5000, 0.5000,  ..., 0.5000, 0.5000, 0.5000],\n",
      "          [0.5000, 0.5000, 0.5000,  ..., 0.5000, 0.5000, 0.5000],\n",
      "          [0.5000, 0.5000, 0.5000,  ..., 0.5000, 0.5000, 0.5000],\n",
      "          ...,\n",
      "          [0.5000, 0.5000, 0.5000,  ..., 0.5000, 0.5000, 0.5000],\n",
      "          [0.5000, 0.5000, 0.5000,  ..., 0.5000, 0.5000, 0.5000],\n",
      "          [0.5000, 0.5000, 0.5000,  ..., 0.5000, 0.5000, 0.5000]]]],\n",
      "       device='cuda:0', grad_fn=<SliceBackward>) tensor([[[[0., 0., 0.,  ..., 0., 0., 0.],\n",
      "          [0., 0., 1.,  ..., 0., 0., 0.],\n",
      "          [0., 0., 1.,  ..., 0., 0., 0.],\n",
      "          ...,\n",
      "          [0., 1., 0.,  ..., 0., 0., 0.],\n",
      "          [0., 1., 0.,  ..., 0., 0., 0.],\n",
      "          [0., 1., 0.,  ..., 0., 0., 0.]]],\n",
      "\n",
      "\n",
      "        [[[1., 0., 0.,  ..., 0., 0., 0.],\n",
      "          [1., 0., 0.,  ..., 0., 0., 0.],\n",
      "          [1., 0., 0.,  ..., 0., 0., 0.],\n",
      "          ...,\n",
      "          [0., 1., 1.,  ..., 1., 1., 1.],\n",
      "          [0., 1., 1.,  ..., 1., 1., 0.],\n",
      "          [0., 1., 1.,  ..., 1., 1., 0.]]]], device='cuda:0')\n",
      "Loss: 0.6931472420692444\n"
     ]
    }
   ],
   "source": [
    "train()"
   ]
  },
  {
   "cell_type": "code",
   "execution_count": null,
   "metadata": {},
   "outputs": [],
   "source": []
  },
  {
   "cell_type": "code",
   "execution_count": null,
   "metadata": {},
   "outputs": [],
   "source": []
  }
 ],
 "metadata": {
  "kernelspec": {
   "display_name": "Python 3",
   "language": "python",
   "name": "python3"
  },
  "language_info": {
   "codemirror_mode": {
    "name": "ipython",
    "version": 3
   },
   "file_extension": ".py",
   "mimetype": "text/x-python",
   "name": "python",
   "nbconvert_exporter": "python",
   "pygments_lexer": "ipython3",
   "version": "3.7.3"
  }
 },
 "nbformat": 4,
 "nbformat_minor": 2
}
